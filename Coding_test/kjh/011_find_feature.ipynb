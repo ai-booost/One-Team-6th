{
 "cells": [
  {
   "cell_type": "markdown",
   "metadata": {},
   "source": [
    "# 봉인된 주문\n",
    "## 문제 설명\n",
    "어느 날, 전설 속에 전해 내려오는 비밀 주문서가 세상에 다시 모습을 드러냈습니다. 이 주문서에는 마법 세계에서 사용되는 모든 주문이 적혀 있는데, 각 주문은 알파벳 소문자 11글자 이하로 구성되어 있습니다. 주문서에는 실제로 마법적 효과를 지니지 않는 의미 없는 주문들 즉, 알파벳 소문자 11글자 이하로 쓸 수 있는 모든 문자열이 고대의 규칙에 따라 아래와 같이 정렬되어 있습니다.\n",
    "\n",
    "글자 수가 적은 주문부터 먼저 기록된다.\n",
    "글자 수가 같다면, 사전 순서대로 기록된다.\n",
    "예를 들어, 주문서의 시작 부분은 다음과 같이 구성됩니다.\n",
    "\n",
    "\"a\"→\"b\"→\"c\"→\"d\"→\"e\"→\"f\"→...→\"z\"\n",
    "→\"aa\"→\"ab\"→...→\"az\"→\"ba\"→...→\"by\"→\"bz\"→\"ca\"→...→\"zz\"\n",
    "→\"aaa\"→\"aab\"→...→\"aaz\"→\"aba\"→...→\"azz\"→\"baa\"→...→\"zzz\"\n",
    "→\"aaaa\"→...→\"aazz\"→\"abaa\"→...→\"czzz\"→\"daaa\"→...→\"zzzz\"\n",
    "→\"aaaaa\"→...\n",
    "하지만 이 주문서에는 오래전 봉인된 저주받은 주문들이 숨겨져 있었고, 이를 악용하려는 자들을 막기 위해 마법사들이 몇몇 주문을 주문서에서 삭제했습니다. 당신은 삭제가 완료된 주문서에서 n번째 주문을 찾아내야 합니다.\n",
    "\n",
    "예를 들어, 주문서에서 \"d\", \"e\", \"bb\", \"aa\", \"ae\" 5개의 주문을 지웠을 때, 주문서에서 30번째 주문을 찾으려고 합니다.\n",
    "\n",
    "1~3번째 주문은 \"a\", \"b\", \"c\" 입니다.\n",
    "\"d\"와 \"e\"는 삭제됐으므로 4~24번째 주문은 \"f\" ~ \"z\"입니다.\n",
    "\"aa\"는 삭제됐으므로 25~27번째 주문은 \"ab\", \"ac\", \"ad\"입니다.\n",
    "\"ae\"는 삭제됐으므로 28~30번째 주문은 \"af\", \"ag\", \"ah\"입니다.\n",
    "따라서 30번째 주문은 \"ah\"가 됩니다. 삭제된 주문 중 “bb”와 같이 n번째 주문보다 뒤에 위치해 있어서 n번째 주문을 찾는 데 영향을 주지 않는 주문도 존재할 수 있습니다.\n",
    "\n",
    "정수 n과 삭제된 주문들을 담은 1차원 문자열 배열 bans가 매개변수로 주어질 때, 삭제가 완료된 주문서의 n번째 주문을 return 하도록 solution 함수를 완성해 주세요.\n",
    "## 제한사항\n",
    "1 ≤ n ≤ 10^15  \n",
    "1 ≤ bans의 길이 ≤ 300,000\n",
    "- bans의 원소는 알파벳 소문자로만 이루어진 길이가 1 이상 11 이하인 문자열입니다.\n",
    "- bans의 원소는 중복되지 않습니다.\n",
    "\n",
    "\n",
    "5번째 주문을 찾아라. 근데 ban은 'b'다,  \n",
    "n 30, \n",
    "ban 5,34,31,6\n",
    "n=32\n",
    "ban=\n",
    "n=33\n",
    "\n",
    "\n",
    "a,c,d,e,f,g,....,z,aa,ab,ac,\n",
    "1,2,3,4,5,6, ... ,27,28"
   ]
  },
  {
   "cell_type": "code",
   "execution_count": 1,
   "metadata": {},
   "outputs": [],
   "source": [
    "# bans 내부 값들 숫자 변형 후 제거 하는 방식\n",
    "\n",
    "def get_order_index(spell):  # \"ab\" = 26*1+2 의 값을 가지고 오는 함수\n",
    "    order = 0\n",
    "    for char in spell:\n",
    "        order = order * 26 + (ord(char) - ord('a') + 1)\n",
    "    return order\n",
    "\n",
    "def get_order_string(number):  # 숫자를 알파벳 문자열로 변환하는 함수\n",
    "        result = []\n",
    "        while number > 0:\n",
    "            number -= 1  # 1-based index로 맞추기 위해 1을 빼기\n",
    "            result.append(chr(number % 26 + ord('a')))  # 나머지를 문자로 변환하여 추가\n",
    "            number //= 26  # 26으로 나누기\n",
    "        return ''.join(reversed(result))  # 결과를 뒤집어서 반환\n",
    "\n",
    "def solution(n, bans):\n",
    "    bans_num = []  # ban 내부 문자열을 번호로 변환\n",
    "    for i in range(len(bans)):  # range 사용\n",
    "        bans_num.append(get_order_index(bans[i]))  # 리스트에 추가\n",
    "\n",
    "    low_n = 0\n",
    "\n",
    "    while True:\n",
    "        low_n = sum(1 for b in bans_num if b <= n)\n",
    "        bans_num = [b for b in bans_num if b > n]\n",
    "        n += low_n\n",
    "\n",
    "        if low_n == 0:\n",
    "            break\n",
    "    \n",
    "    answer = get_order_string(n)\n",
    "\n",
    "    return answer  # 변환된 숫자 리스트 반환"
   ]
  },
  {
   "cell_type": "code",
   "execution_count": 2,
   "metadata": {},
   "outputs": [],
   "source": [
    "# bans 내부 값들 숫자 변형 후 제거 하는 방식\n",
    "\n",
    "def get_order_index(spell):  # \"ab\" = 26*1+2 의 값을 가지고 오는 함수\n",
    "    order = 0\n",
    "    for char in spell:\n",
    "        order = order * 26 + (ord(char) - ord('a') + 1)\n",
    "    return order\n",
    "\n",
    "def get_order_string(number):  # 숫자를 알파벳 문자열로 변환하는 함수\n",
    "        result = []\n",
    "        while number > 0:\n",
    "            number -= 1  # 1-based index로 맞추기 위해 1을 빼기\n",
    "            result.append(chr(number % 26 + ord('a')))  # 나머지를 문자로 변환하여 추가\n",
    "            number //= 26  # 26으로 나누기\n",
    "        return ''.join(reversed(result))  # 결과를 뒤집어서 반환\n",
    "\n",
    "def solution(n, bans):\n",
    "    bans_num = sorted([get_order_index(i) for i in bans])\n",
    "    for od in bans_num:\n",
    "        if od<=n:\n",
    "            n+=1\n",
    "        else:\n",
    "            break\n",
    "    answer = get_order_string(n)\n",
    "    return answer\n"
   ]
  },
  {
   "cell_type": "code",
   "execution_count": 3,
   "metadata": {},
   "outputs": [
    {
     "data": {
      "text/plain": [
       "'ah'"
      ]
     },
     "execution_count": 3,
     "metadata": {},
     "output_type": "execute_result"
    }
   ],
   "source": [
    "n = 30\n",
    "bans = [\"d\", \"e\", \"bb\", \"aa\", \"ae\"]\n",
    "solution(n,bans)"
   ]
  },
  {
   "cell_type": "markdown",
   "metadata": {},
   "source": [
    "## 채점 결과\n",
    "걸린 시간 = 30분  \n",
    "코드 결과값 일치 = 실패    \n",
    "테스트 통과 = 실패(Time complexity)   \n",
    "오늘 날짜 : 25.03.03\n",
    "\n",
    "## Feedback\n",
    "일단 n 이 10의 15승까지인 것을 보아 while이나 for 하나만 써도 time complexity 문제가 터질 것임을 알 수 있다.  \n",
    "수학적으로 푸는 것이 가장 괜찮아 보이니 일단 bans에 있는 문자들을 숫자로 변형한다.  \n",
    "알파벳 개수는 26 개 \"aa\" = 26*1+1, \"aaa\" =26*26*1+26*1+1 이다.  \n",
    "그리고 마지막에 문자를 출력해야 하니 숫자를 문자로 바꿔주는 함수도 만들어 준다.  \n",
    "\n",
    "1. n 이 30일 때 n보다 작은 bans의 개수를 n에 더한 후, n보다 크고 n+bans_num 보다 작은 bans의 개수를 찾는걸 bans의 개수가 0이 될 때 까지의 n+bans_num을 찾는다. ->이게 더 오래 걸리네;\n",
    "2. bans_num을 만들고 이중에 n 보다 작은 값들을 제거한다. 제거된 num 수를 low_n 이라고 칭하고, n에 더한 후 다시 비교 하는 것을 low_n이 0이 될 때 까지 반복한다. 마지막 n을 문자로 바꾸면 완료 -> 시간 초과로 2개 실패\n",
    "3. bans를 오름차순으로 정렬하는 방법에 sorted 함수가 있음을 까먹고 있었음. 그럼 반복이 필요가 없음. (이걸 까먹고 있었음. 바보 ㅋㅋ)\n"
   ]
  },
  {
   "cell_type": "markdown",
   "metadata": {},
   "source": [
    "### 해당 코드는 프로그래머스에 나온 코드 테스트를 이용한 것임을 알림\n",
    "https://school.programmers.co.kr/learn/courses/30/lessons/389481"
   ]
  },
  {
   "cell_type": "markdown",
   "metadata": {},
   "source": []
  }
 ],
 "metadata": {
  "kernelspec": {
   "display_name": "base",
   "language": "python",
   "name": "python3"
  },
  "language_info": {
   "codemirror_mode": {
    "name": "ipython",
    "version": 3
   },
   "file_extension": ".py",
   "mimetype": "text/x-python",
   "name": "python",
   "nbconvert_exporter": "python",
   "pygments_lexer": "ipython3",
   "version": "3.12.7"
  }
 },
 "nbformat": 4,
 "nbformat_minor": 2
}
